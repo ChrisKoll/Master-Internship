{
 "cells": [
  {
   "cell_type": "markdown",
   "metadata": {},
   "source": [
    "# Subset"
   ]
  },
  {
   "cell_type": "markdown",
   "metadata": {},
   "source": [
    "## Load Libraries"
   ]
  },
  {
   "cell_type": "code",
   "execution_count": 2,
   "metadata": {},
   "outputs": [],
   "source": [
    "import anndata as ad\n",
    "import numpy as np"
   ]
  },
  {
   "cell_type": "markdown",
   "metadata": {},
   "source": [
    "## Input Data"
   ]
  },
  {
   "cell_type": "code",
   "execution_count": 3,
   "metadata": {},
   "outputs": [],
   "source": [
    "file_path = \"/home/ubuntu/projects/project_data/thesis/global_raw.h5ad\"\n",
    "\n",
    "adata = ad.read_h5ad(filename=file_path)"
   ]
  },
  {
   "cell_type": "code",
   "execution_count": 4,
   "metadata": {},
   "outputs": [
    {
     "data": {
      "text/plain": [
       "AnnData object with n_obs × n_vars = 486134 × 33538\n",
       "    obs: 'NRP', 'age_group', 'cell_source', 'cell_type', 'donor', 'gender', 'n_counts', 'n_genes', 'percent_mito', 'percent_ribo', 'region', 'sample', 'scrublet_score', 'source', 'type', 'version', 'cell_states', 'Used'\n",
       "    var: 'gene_ids-Harvard-Nuclei', 'feature_types-Harvard-Nuclei', 'gene_ids-Sanger-Nuclei', 'feature_types-Sanger-Nuclei', 'gene_ids-Sanger-Cells', 'feature_types-Sanger-Cells', 'gene_ids-Sanger-CD45', 'feature_types-Sanger-CD45'\n",
       "    uns: 'cell_type_colors'\n",
       "    obsm: 'X_pca', 'X_umap'"
      ]
     },
     "execution_count": 4,
     "metadata": {},
     "output_type": "execute_result"
    }
   ],
   "source": [
    "adata"
   ]
  },
  {
   "cell_type": "code",
   "execution_count": 6,
   "metadata": {},
   "outputs": [
    {
     "data": {
      "text/plain": [
       "Index(['gene_ids-Harvard-Nuclei', 'feature_types-Harvard-Nuclei',\n",
       "       'gene_ids-Sanger-Nuclei', 'feature_types-Sanger-Nuclei',\n",
       "       'gene_ids-Sanger-Cells', 'feature_types-Sanger-Cells',\n",
       "       'gene_ids-Sanger-CD45', 'feature_types-Sanger-CD45'],\n",
       "      dtype='object')"
      ]
     },
     "execution_count": 6,
     "metadata": {},
     "output_type": "execute_result"
    }
   ],
   "source": [
    "adata.var.columns"
   ]
  },
  {
   "cell_type": "markdown",
   "metadata": {},
   "source": [
    "## Subset"
   ]
  },
  {
   "cell_type": "code",
   "execution_count": 7,
   "metadata": {},
   "outputs": [
    {
     "name": "stdout",
     "output_type": "stream",
     "text": [
      "[265456  16745  16635 ...  87587 131868  92741]\n",
      "[26914  2285 20453 ... 24693 29950  8813]\n"
     ]
    }
   ],
   "source": [
    "shuffle = True\n",
    "\n",
    "# Set subset size\n",
    "number_rows = 50000\n",
    "number_cols = 5000\n",
    "\n",
    "if shuffle:\n",
    "    # Shuffle indices before subsetting\n",
    "    shuffled_rows = np.random.permutation(adata.n_obs)\n",
    "    shuffled_cols = np.random.permutation(adata.n_vars)\n",
    "    print(shuffled_rows)\n",
    "    print(shuffled_cols)\n",
    "    adata = adata[shuffled_rows, shuffled_cols]\n",
    "    adata = adata[:number_rows, :number_cols]\n",
    "else:\n",
    "    # Indices are not shuffled\n",
    "    adata = adata[:number_rows, :number_cols]"
   ]
  },
  {
   "cell_type": "code",
   "execution_count": 8,
   "metadata": {},
   "outputs": [
    {
     "data": {
      "text/plain": [
       "View of AnnData object with n_obs × n_vars = 50000 × 5000\n",
       "    obs: 'NRP', 'age_group', 'cell_source', 'cell_type', 'donor', 'gender', 'n_counts', 'n_genes', 'percent_mito', 'percent_ribo', 'region', 'sample', 'scrublet_score', 'source', 'type', 'version', 'cell_states', 'Used'\n",
       "    var: 'gene_ids-Harvard-Nuclei', 'feature_types-Harvard-Nuclei', 'gene_ids-Sanger-Nuclei', 'feature_types-Sanger-Nuclei', 'gene_ids-Sanger-Cells', 'feature_types-Sanger-Cells', 'gene_ids-Sanger-CD45', 'feature_types-Sanger-CD45'\n",
       "    uns: 'cell_type_colors'\n",
       "    obsm: 'X_pca', 'X_umap'"
      ]
     },
     "execution_count": 8,
     "metadata": {},
     "output_type": "execute_result"
    }
   ],
   "source": [
    "adata"
   ]
  },
  {
   "cell_type": "code",
   "execution_count": 11,
   "metadata": {},
   "outputs": [
    {
     "data": {
      "text/html": [
       "<div>\n",
       "<style scoped>\n",
       "    .dataframe tbody tr th:only-of-type {\n",
       "        vertical-align: middle;\n",
       "    }\n",
       "\n",
       "    .dataframe tbody tr th {\n",
       "        vertical-align: top;\n",
       "    }\n",
       "\n",
       "    .dataframe thead th {\n",
       "        text-align: right;\n",
       "    }\n",
       "</style>\n",
       "<table border=\"1\" class=\"dataframe\">\n",
       "  <thead>\n",
       "    <tr style=\"text-align: right;\">\n",
       "      <th></th>\n",
       "      <th>gene_ids-Harvard-Nuclei</th>\n",
       "      <th>feature_types-Harvard-Nuclei</th>\n",
       "      <th>gene_ids-Sanger-Nuclei</th>\n",
       "      <th>feature_types-Sanger-Nuclei</th>\n",
       "      <th>gene_ids-Sanger-Cells</th>\n",
       "      <th>feature_types-Sanger-Cells</th>\n",
       "      <th>gene_ids-Sanger-CD45</th>\n",
       "      <th>feature_types-Sanger-CD45</th>\n",
       "    </tr>\n",
       "  </thead>\n",
       "  <tbody>\n",
       "    <tr>\n",
       "      <th>PIK3R5</th>\n",
       "      <td>ENSG00000141506</td>\n",
       "      <td>Gene Expression</td>\n",
       "      <td>ENSG00000141506</td>\n",
       "      <td>0</td>\n",
       "      <td>ENSG00000141506</td>\n",
       "      <td>0</td>\n",
       "      <td>ENSG00000141506</td>\n",
       "      <td>0</td>\n",
       "    </tr>\n",
       "    <tr>\n",
       "      <th>AL031275.1</th>\n",
       "      <td>ENSG00000235736</td>\n",
       "      <td>Gene Expression</td>\n",
       "      <td>ENSG00000235736</td>\n",
       "      <td>0</td>\n",
       "      <td>ENSG00000235736</td>\n",
       "      <td>0</td>\n",
       "      <td>ENSG00000235736</td>\n",
       "      <td>0</td>\n",
       "    </tr>\n",
       "    <tr>\n",
       "      <th>PLEKHA5</th>\n",
       "      <td>ENSG00000052126</td>\n",
       "      <td>Gene Expression</td>\n",
       "      <td>ENSG00000052126</td>\n",
       "      <td>0</td>\n",
       "      <td>ENSG00000052126</td>\n",
       "      <td>0</td>\n",
       "      <td>ENSG00000052126</td>\n",
       "      <td>0</td>\n",
       "    </tr>\n",
       "    <tr>\n",
       "      <th>VCPKMT</th>\n",
       "      <td>ENSG00000100483</td>\n",
       "      <td>Gene Expression</td>\n",
       "      <td>ENSG00000100483</td>\n",
       "      <td>0</td>\n",
       "      <td>ENSG00000100483</td>\n",
       "      <td>0</td>\n",
       "      <td>ENSG00000100483</td>\n",
       "      <td>0</td>\n",
       "    </tr>\n",
       "    <tr>\n",
       "      <th>CREB1</th>\n",
       "      <td>ENSG00000118260</td>\n",
       "      <td>Gene Expression</td>\n",
       "      <td>ENSG00000118260</td>\n",
       "      <td>0</td>\n",
       "      <td>ENSG00000118260</td>\n",
       "      <td>0</td>\n",
       "      <td>ENSG00000118260</td>\n",
       "      <td>0</td>\n",
       "    </tr>\n",
       "    <tr>\n",
       "      <th>...</th>\n",
       "      <td>...</td>\n",
       "      <td>...</td>\n",
       "      <td>...</td>\n",
       "      <td>...</td>\n",
       "      <td>...</td>\n",
       "      <td>...</td>\n",
       "      <td>...</td>\n",
       "      <td>...</td>\n",
       "    </tr>\n",
       "    <tr>\n",
       "      <th>IL16</th>\n",
       "      <td>ENSG00000172349</td>\n",
       "      <td>Gene Expression</td>\n",
       "      <td>ENSG00000172349</td>\n",
       "      <td>0</td>\n",
       "      <td>ENSG00000172349</td>\n",
       "      <td>0</td>\n",
       "      <td>ENSG00000172349</td>\n",
       "      <td>0</td>\n",
       "    </tr>\n",
       "    <tr>\n",
       "      <th>LINC01840</th>\n",
       "      <td>ENSG00000230215</td>\n",
       "      <td>Gene Expression</td>\n",
       "      <td>ENSG00000230215</td>\n",
       "      <td>0</td>\n",
       "      <td>ENSG00000230215</td>\n",
       "      <td>0</td>\n",
       "      <td>ENSG00000230215</td>\n",
       "      <td>0</td>\n",
       "    </tr>\n",
       "    <tr>\n",
       "      <th>ARMH2</th>\n",
       "      <td>ENSG00000260286</td>\n",
       "      <td>Gene Expression</td>\n",
       "      <td>ENSG00000260286</td>\n",
       "      <td>0</td>\n",
       "      <td>ENSG00000260286</td>\n",
       "      <td>0</td>\n",
       "      <td>ENSG00000260286</td>\n",
       "      <td>0</td>\n",
       "    </tr>\n",
       "    <tr>\n",
       "      <th>WDR63</th>\n",
       "      <td>ENSG00000162643</td>\n",
       "      <td>Gene Expression</td>\n",
       "      <td>ENSG00000162643</td>\n",
       "      <td>0</td>\n",
       "      <td>ENSG00000162643</td>\n",
       "      <td>0</td>\n",
       "      <td>ENSG00000162643</td>\n",
       "      <td>0</td>\n",
       "    </tr>\n",
       "    <tr>\n",
       "      <th>GSTM5</th>\n",
       "      <td>ENSG00000134201</td>\n",
       "      <td>Gene Expression</td>\n",
       "      <td>ENSG00000134201</td>\n",
       "      <td>0</td>\n",
       "      <td>ENSG00000134201</td>\n",
       "      <td>0</td>\n",
       "      <td>ENSG00000134201</td>\n",
       "      <td>0</td>\n",
       "    </tr>\n",
       "  </tbody>\n",
       "</table>\n",
       "<p>5000 rows × 8 columns</p>\n",
       "</div>"
      ],
      "text/plain": [
       "           gene_ids-Harvard-Nuclei feature_types-Harvard-Nuclei  \\\n",
       "PIK3R5             ENSG00000141506              Gene Expression   \n",
       "AL031275.1         ENSG00000235736              Gene Expression   \n",
       "PLEKHA5            ENSG00000052126              Gene Expression   \n",
       "VCPKMT             ENSG00000100483              Gene Expression   \n",
       "CREB1              ENSG00000118260              Gene Expression   \n",
       "...                            ...                          ...   \n",
       "IL16               ENSG00000172349              Gene Expression   \n",
       "LINC01840          ENSG00000230215              Gene Expression   \n",
       "ARMH2              ENSG00000260286              Gene Expression   \n",
       "WDR63              ENSG00000162643              Gene Expression   \n",
       "GSTM5              ENSG00000134201              Gene Expression   \n",
       "\n",
       "           gene_ids-Sanger-Nuclei  feature_types-Sanger-Nuclei  \\\n",
       "PIK3R5            ENSG00000141506                            0   \n",
       "AL031275.1        ENSG00000235736                            0   \n",
       "PLEKHA5           ENSG00000052126                            0   \n",
       "VCPKMT            ENSG00000100483                            0   \n",
       "CREB1             ENSG00000118260                            0   \n",
       "...                           ...                          ...   \n",
       "IL16              ENSG00000172349                            0   \n",
       "LINC01840         ENSG00000230215                            0   \n",
       "ARMH2             ENSG00000260286                            0   \n",
       "WDR63             ENSG00000162643                            0   \n",
       "GSTM5             ENSG00000134201                            0   \n",
       "\n",
       "           gene_ids-Sanger-Cells  feature_types-Sanger-Cells  \\\n",
       "PIK3R5           ENSG00000141506                           0   \n",
       "AL031275.1       ENSG00000235736                           0   \n",
       "PLEKHA5          ENSG00000052126                           0   \n",
       "VCPKMT           ENSG00000100483                           0   \n",
       "CREB1            ENSG00000118260                           0   \n",
       "...                          ...                         ...   \n",
       "IL16             ENSG00000172349                           0   \n",
       "LINC01840        ENSG00000230215                           0   \n",
       "ARMH2            ENSG00000260286                           0   \n",
       "WDR63            ENSG00000162643                           0   \n",
       "GSTM5            ENSG00000134201                           0   \n",
       "\n",
       "           gene_ids-Sanger-CD45  feature_types-Sanger-CD45  \n",
       "PIK3R5          ENSG00000141506                          0  \n",
       "AL031275.1      ENSG00000235736                          0  \n",
       "PLEKHA5         ENSG00000052126                          0  \n",
       "VCPKMT          ENSG00000100483                          0  \n",
       "CREB1           ENSG00000118260                          0  \n",
       "...                         ...                        ...  \n",
       "IL16            ENSG00000172349                          0  \n",
       "LINC01840       ENSG00000230215                          0  \n",
       "ARMH2           ENSG00000260286                          0  \n",
       "WDR63           ENSG00000162643                          0  \n",
       "GSTM5           ENSG00000134201                          0  \n",
       "\n",
       "[5000 rows x 8 columns]"
      ]
     },
     "execution_count": 11,
     "metadata": {},
     "output_type": "execute_result"
    }
   ],
   "source": [
    "adata.var"
   ]
  },
  {
   "cell_type": "markdown",
   "metadata": {},
   "source": [
    "## Save Data"
   ]
  },
  {
   "cell_type": "code",
   "execution_count": 6,
   "metadata": {},
   "outputs": [],
   "source": [
    "file_name = f\"adata_{number_rows}x{number_cols}_sample.h5ad\"\n",
    "\n",
    "adata.write_h5ad(file_name)"
   ]
  }
 ],
 "metadata": {
  "kernelspec": {
   "display_name": "machine_learning",
   "language": "python",
   "name": "python3"
  },
  "language_info": {
   "codemirror_mode": {
    "name": "ipython",
    "version": 3
   },
   "file_extension": ".py",
   "mimetype": "text/x-python",
   "name": "python",
   "nbconvert_exporter": "python",
   "pygments_lexer": "ipython3",
   "version": "3.10.14"
  }
 },
 "nbformat": 4,
 "nbformat_minor": 2
}
